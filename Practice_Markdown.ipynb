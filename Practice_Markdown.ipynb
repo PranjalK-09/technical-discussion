{
  "cells": [
    {
      "cell_type": "markdown",
      "metadata": {
        "id": "view-in-github",
        "colab_type": "text"
      },
      "source": [
        "<a href=\"https://colab.research.google.com/github/PranjalK-09/technical-discussion/blob/main/Practice_Markdown.ipynb\" target=\"_parent\"><img src=\"https://colab.research.google.com/assets/colab-badge.svg\" alt=\"Open In Colab\"/></a>"
      ]
    },
    {
      "cell_type": "markdown",
      "metadata": {
        "id": "PyLZjxFTiyN5"
      },
      "source": [
        "## Practice Markdown"
      ]
    },
    {
      "cell_type": "markdown",
      "metadata": {
        "id": "6eeEYL3JiyN6"
      },
      "source": [
        "This notebook lets you experiment with producing repeatable technical documentation.  Use this notebook to do the following actions:\n",
        "\n",
        "* Create a code cell and print a Python Hello World statement:  `print(\"hello world\")`\n",
        "* Create a Markdown Cell and add a Title using `#` and then a statement using plain text.  You can looks at the source code for this cell to get an idea of how to use Markdown.\n",
        "* Take some ideas from the [Master Markdown Github Guide](https://guides.github.com/features/mastering-markdown/) and implement them here.\n",
        "* Download this notebook as a `.ipynb` file and check into a Github Project.  You can [see an example here](https://github.com/noahgift/duke-coursera-ccf-lab1/blob/main/Practice-Markdown.ipynb).\n",
        "* Open your notebook in Google Colab and save it into the same Github Project.  You can [see an example here](https://github.com/noahgift/duke-coursera-ccf-lab1/blob/main/Practice_Markdown_with_colab.ipynb).\n"
      ]
    },
    {
      "cell_type": "code",
      "execution_count": null,
      "metadata": {
        "id": "JyywPkeiiyN7",
        "outputId": "6deb7f30-7968-47d3-cb17-bf50af604ba7"
      },
      "outputs": [
        {
          "name": "stdout",
          "output_type": "stream",
          "text": [
            "hello world\n"
          ]
        }
      ],
      "source": [
        "def printing():\n",
        "    print(\"hello world\")\n",
        "\n",
        "printing()\n",
        ""
      ]
    },
    {
      "cell_type": "markdown",
      "metadata": {
        "id": "dzuNqarOiyN8"
      },
      "source": [
        "# one hashtag for the title\n",
        "no hashtag for plain text"
      ]
    },
    {
      "cell_type": "markdown",
      "metadata": {
        "id": "TSxCLbY4iyN8"
      },
      "source": [
        "**This is a bold text**  \n",
        "_This is an italicised text_  \n",
        "this is a <sub>subscript</sub> text  \n",
        "this is a <sup>superscript</sup> text  \n",
        "~this is a mistaken text~  \n",
        "this is an <ins>underlined</ins> text  \n",
        "\n",
        "some basic git commands are  \n",
        "> git status   \n",
        "git add  \n",
        "git commit\n",
        "    \n",
        "instead of putting 2 spaces at the end and then clicking enter for new line, you can use triple *apostrophe* ~not quotes~\n",
        "```\n",
        "like\n",
        "this\n",
        "```\n"
      ]
    }
  ],
  "metadata": {
    "kernelspec": {
      "display_name": "Python 3",
      "language": "python",
      "name": "python3"
    },
    "language_info": {
      "codemirror_mode": {
        "name": "ipython",
        "version": 3
      },
      "file_extension": ".py",
      "mimetype": "text/x-python",
      "name": "python",
      "nbconvert_exporter": "python",
      "pygments_lexer": "ipython3",
      "version": "3.7.6"
    },
    "colab": {
      "provenance": [],
      "include_colab_link": true
    }
  },
  "nbformat": 4,
  "nbformat_minor": 0
}